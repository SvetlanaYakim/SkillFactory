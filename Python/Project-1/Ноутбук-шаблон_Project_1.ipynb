version https://git-lfs.github.com/spec/v1
oid sha256:fc4a3b147fa4ef7cacfb38808d2f9f9da79b40e0057e7170a807dc9e96e384e7
size 579683
